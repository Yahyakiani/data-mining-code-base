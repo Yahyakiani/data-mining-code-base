{
 "cells": [
  {
   "cell_type": "code",
   "execution_count": null,
   "id": "6e3bdd77-2a84-4e5d-b0b9-144db24cd729",
   "metadata": {},
   "outputs": [],
   "source": [
    "df = pd.read_csv('./datasets/Applicants_and_Recipients_of_Small_Business_Impact_Grant_and_Small_Business_Reopening_and_Support_Grant.csv')\n"
   ]
  },
  {
   "cell_type": "code",
   "execution_count": 18,
   "id": "2940f9ae-88c8-4b6d-88c8-0231baec62da",
   "metadata": {
    "tags": []
   },
   "outputs": [
    {
     "name": "stdout",
     "output_type": "stream",
     "text": [
      "                               Company Name  Probability\n",
      "0                     Alderney Dental Group     0.979956\n",
      "1                           Alliance Dental     0.979940\n",
      "2                             Anchor Dental     0.979921\n",
      "3                   AppleTown Dental Centre     0.979877\n",
      "4          Atlantic Oral Surgery Associates     0.979824\n",
      "...                                     ...          ...\n",
      "1264  St. Andrews District Community Centre     0.742735\n",
      "1265               The Cape Breton Ski Club     0.740655\n",
      "1266  Titans Gymnastics and Trampoline Club     0.738373\n",
      "1267               Two Rivers Wildlife Park     0.737451\n",
      "1268                 United DFC Soccer Club     0.737302\n",
      "\n",
      "[1269 rows x 2 columns]\n"
     ]
    }
   ],
   "source": [
    "import pandas as pd\n",
    "from sklearn.model_selection import train_test_split\n",
    "from sklearn.linear_model import LogisticRegression\n",
    "from sklearn.preprocessing import LabelEncoder\n",
    "\n",
    "# Load the data into a Pandas dataframe\n",
    "df = pd.read_csv('./datasets/Applicants_and_Recipients_of_Small_Business_Impact_Grant_and_Small_Business_Reopening_and_Support_Grant.csv')\n",
    "\n",
    "# Convert 'Received Small Business Impact Grant' and 'Received Small Business Reopening and Support Grant' columns to binary values\n",
    "df['Received Small Business Impact Grant'] = df['Received Small Business Impact Grant'].map({'yes': 1, 'no': 0})\n",
    "df['Received Small Business Reopening and Support Grant'] = df['Received Small Business Reopening and Support Grant'].map({'yes': 1, 'no': 0})\n",
    "\n",
    "# One-hot encode the 'Type of Business' column\n",
    "df = pd.concat([df, pd.get_dummies(df['Type of Business'])], axis=1)\n",
    "df = df.drop(['Type of Business'], axis=1)\n",
    "\n",
    "# Convert the 'NS Small Business' column to numerical values using LabelEncoder\n",
    "le = LabelEncoder()\n",
    "df['NS Small Business'] = le.fit_transform(df['NS Small Business'])\n",
    "\n",
    "# Split the data into training and testing sets\n",
    "X = df.drop(['Received Small Business Impact Grant', 'Received Small Business Reopening and Support Grant'], axis=1)\n",
    "y = df['Received Small Business Reopening and Support Grant']\n",
    "X_train, X_test, y_train, y_test = train_test_split(X, y, test_size=0.3)\n",
    "\n",
    "# Fit a logistic regression model\n",
    "clf = LogisticRegression()\n",
    "clf.fit(X_train, y_train)\n",
    "\n",
    "# Get the probability of each company receiving a grant\n",
    "proba = clf.predict_proba(X_test)\n",
    "\n",
    "# Create a table with company name and probability\n",
    "company_prob = pd.DataFrame({'Company Name': le.inverse_transform(X_test['NS Small Business']), 'Probability': proba[:, 1]})\n",
    "company_prob = company_prob.sort_values('Probability', ascending=False).reset_index(drop=True)\n",
    "print(company_prob)\n"
   ]
  },
  {
   "cell_type": "code",
   "execution_count": 17,
   "id": "fe48f9bc-1dd8-4344-9cbd-9c115949a4d8",
   "metadata": {
    "tags": []
   },
   "outputs": [
    {
     "ename": "ValueError",
     "evalue": "y should be a 1d array, got an array of shape (4227, 2) instead.",
     "output_type": "error",
     "traceback": [
      "\u001b[1;31m---------------------------------------------------------------------------\u001b[0m",
      "\u001b[1;31mValueError\u001b[0m                                Traceback (most recent call last)",
      "Cell \u001b[1;32mIn[17], line 35\u001b[0m\n\u001b[0;32m     33\u001b[0m \u001b[38;5;66;03m# Convert encoded labels back to their original values\u001b[39;00m\n\u001b[0;32m     34\u001b[0m y_test_names \u001b[38;5;241m=\u001b[39m np\u001b[38;5;241m.\u001b[39marray(le\u001b[38;5;241m.\u001b[39minverse_transform(y_test))\n\u001b[1;32m---> 35\u001b[0m y_pred_names \u001b[38;5;241m=\u001b[39m np\u001b[38;5;241m.\u001b[39marray(\u001b[43mle\u001b[49m\u001b[38;5;241;43m.\u001b[39;49m\u001b[43minverse_transform\u001b[49m\u001b[43m(\u001b[49m\u001b[43mprobas\u001b[49m\u001b[43m)\u001b[49m)\n\u001b[0;32m     36\u001b[0m \u001b[38;5;66;03m# Create a new dataframe with the predicted probabilities and the company names\u001b[39;00m\n\u001b[0;32m     37\u001b[0m results \u001b[38;5;241m=\u001b[39m pd\u001b[38;5;241m.\u001b[39mDataFrame({\u001b[38;5;124m'\u001b[39m\u001b[38;5;124mCompany\u001b[39m\u001b[38;5;124m'\u001b[39m: df[\u001b[38;5;124m'\u001b[39m\u001b[38;5;124mNS Small Business\u001b[39m\u001b[38;5;124m'\u001b[39m], \u001b[38;5;124m'\u001b[39m\u001b[38;5;124mProbability of receiving grant\u001b[39m\u001b[38;5;124m'\u001b[39m: probas[:,\u001b[38;5;241m1\u001b[39m]})\n",
      "File \u001b[1;32mC:\\Study\\Data Mining\\documents\\initial analysis report\\data_mining_venv\\lib\\site-packages\\sklearn\\preprocessing\\_label.py:155\u001b[0m, in \u001b[0;36mLabelEncoder.inverse_transform\u001b[1;34m(self, y)\u001b[0m\n\u001b[0;32m    142\u001b[0m \u001b[38;5;250m\u001b[39m\u001b[38;5;124;03m\"\"\"Transform labels back to original encoding.\u001b[39;00m\n\u001b[0;32m    143\u001b[0m \n\u001b[0;32m    144\u001b[0m \u001b[38;5;124;03mParameters\u001b[39;00m\n\u001b[1;32m   (...)\u001b[0m\n\u001b[0;32m    152\u001b[0m \u001b[38;5;124;03m    Original encoding.\u001b[39;00m\n\u001b[0;32m    153\u001b[0m \u001b[38;5;124;03m\"\"\"\u001b[39;00m\n\u001b[0;32m    154\u001b[0m check_is_fitted(\u001b[38;5;28mself\u001b[39m)\n\u001b[1;32m--> 155\u001b[0m y \u001b[38;5;241m=\u001b[39m \u001b[43mcolumn_or_1d\u001b[49m\u001b[43m(\u001b[49m\u001b[43my\u001b[49m\u001b[43m,\u001b[49m\u001b[43m \u001b[49m\u001b[43mwarn\u001b[49m\u001b[38;5;241;43m=\u001b[39;49m\u001b[38;5;28;43;01mTrue\u001b[39;49;00m\u001b[43m)\u001b[49m\n\u001b[0;32m    156\u001b[0m \u001b[38;5;66;03m# inverse transform of empty array is empty array\u001b[39;00m\n\u001b[0;32m    157\u001b[0m \u001b[38;5;28;01mif\u001b[39;00m _num_samples(y) \u001b[38;5;241m==\u001b[39m \u001b[38;5;241m0\u001b[39m:\n",
      "File \u001b[1;32mC:\\Study\\Data Mining\\documents\\initial analysis report\\data_mining_venv\\lib\\site-packages\\sklearn\\utils\\validation.py:1202\u001b[0m, in \u001b[0;36mcolumn_or_1d\u001b[1;34m(y, dtype, warn)\u001b[0m\n\u001b[0;32m   1193\u001b[0m         warnings\u001b[38;5;241m.\u001b[39mwarn(\n\u001b[0;32m   1194\u001b[0m             \u001b[38;5;124m\"\u001b[39m\u001b[38;5;124mA column-vector y was passed when a 1d array was\u001b[39m\u001b[38;5;124m\"\u001b[39m\n\u001b[0;32m   1195\u001b[0m             \u001b[38;5;124m\"\u001b[39m\u001b[38;5;124m expected. Please change the shape of y to \u001b[39m\u001b[38;5;124m\"\u001b[39m\n\u001b[1;32m   (...)\u001b[0m\n\u001b[0;32m   1198\u001b[0m             stacklevel\u001b[38;5;241m=\u001b[39m\u001b[38;5;241m2\u001b[39m,\n\u001b[0;32m   1199\u001b[0m         )\n\u001b[0;32m   1200\u001b[0m     \u001b[38;5;28;01mreturn\u001b[39;00m _asarray_with_order(xp\u001b[38;5;241m.\u001b[39mreshape(y, \u001b[38;5;241m-\u001b[39m\u001b[38;5;241m1\u001b[39m), order\u001b[38;5;241m=\u001b[39m\u001b[38;5;124m\"\u001b[39m\u001b[38;5;124mC\u001b[39m\u001b[38;5;124m\"\u001b[39m, xp\u001b[38;5;241m=\u001b[39mxp)\n\u001b[1;32m-> 1202\u001b[0m \u001b[38;5;28;01mraise\u001b[39;00m \u001b[38;5;167;01mValueError\u001b[39;00m(\n\u001b[0;32m   1203\u001b[0m     \u001b[38;5;124m\"\u001b[39m\u001b[38;5;124my should be a 1d array, got an array of shape \u001b[39m\u001b[38;5;132;01m{}\u001b[39;00m\u001b[38;5;124m instead.\u001b[39m\u001b[38;5;124m\"\u001b[39m\u001b[38;5;241m.\u001b[39mformat(shape)\n\u001b[0;32m   1204\u001b[0m )\n",
      "\u001b[1;31mValueError\u001b[0m: y should be a 1d array, got an array of shape (4227, 2) instead."
     ]
    }
   ],
   "source": []
  },
  {
   "cell_type": "code",
   "execution_count": null,
   "id": "39db0e41-0c44-4d42-aa5f-542e08c2f356",
   "metadata": {},
   "outputs": [],
   "source": []
  }
 ],
 "metadata": {
  "kernelspec": {
   "display_name": "Python 3 (ipykernel)",
   "language": "python",
   "name": "python3"
  },
  "language_info": {
   "codemirror_mode": {
    "name": "ipython",
    "version": 3
   },
   "file_extension": ".py",
   "mimetype": "text/x-python",
   "name": "python",
   "nbconvert_exporter": "python",
   "pygments_lexer": "ipython3",
   "version": "3.10.9"
  }
 },
 "nbformat": 4,
 "nbformat_minor": 5
}
